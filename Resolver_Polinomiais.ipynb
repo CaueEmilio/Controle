{
 "cells": [
  {
   "cell_type": "markdown",
   "metadata": {
    "colab_type": "text",
    "id": "wVkJY0ab5iFC"
   },
   "source": [
    "# Resolve polinomiais"
   ]
  },
  {
   "cell_type": "markdown",
   "metadata": {
    "colab_type": "text",
    "id": "iyJtdILw-PYX"
   },
   "source": [
    "Importar bibliotecas"
   ]
  },
  {
   "cell_type": "code",
   "execution_count": 1,
   "metadata": {
    "colab": {},
    "colab_type": "code",
    "id": "AowZW01o5iFE"
   },
   "outputs": [],
   "source": [
    "import numpy as np\n",
    "import matplotlib.pyplot as plt\n",
    "from math import *\n",
    "import control as ct\n",
    "from Polinomial import Sylvester\n",
    "from control.matlab import *\n",
    "%matplotlib inline\n",
    "s = ct.TransferFunction.s"
   ]
  },
  {
   "cell_type": "markdown",
   "metadata": {
    "colab_type": "text",
    "id": "OhMekkgA5iFI"
   },
   "source": [
    "Funções pedidas"
   ]
  },
  {
   "cell_type": "code",
   "execution_count": 2,
   "metadata": {
    "colab": {
     "base_uri": "https://localhost:8080/",
     "height": 816
    },
    "colab_type": "code",
    "id": "ftGAyL1W5iFI",
    "outputId": "cc82e0a7-4a6d-44a9-b740-11968269ae60",
    "scrolled": true
   },
   "outputs": [
    {
     "name": "stdout",
     "output_type": "stream",
     "text": [
      "G1 = \n",
      "5 s + 2.5\n",
      "---------\n",
      "s^2 + 2 s\n",
      " \n",
      "\n",
      "G2 = \n",
      "  5 s^3 + 32.5 s^2 + 80 s + 32.5\n",
      "---------------------------------\n",
      "s^4 + 5 s^3 + 19 s^2 - 107 s + 82\n",
      " \n",
      "\n",
      "G3 = \n",
      "5 s - 25\n",
      "--------\n",
      "s^2 - 4\n",
      " \n",
      "\n",
      "G4 = \n",
      "  5 s - 25\n",
      "-----------\n",
      "s^3 - 2 s^2\n",
      " \n"
     ]
    }
   ],
   "source": [
    "G1 = (5*(s + 0.5))/((s+2)*s)\n",
    "G2 = (5*(s**2 + 6*s + 13)*(s + 0.5))/((s - 2)*(s - 1)*(s**2 + 8*s + 41))\n",
    "G3 = (5*(s - 5))/((s - 2)*(s + 2))\n",
    "G4 = (5*(s - 5))/((s - 2)*s**2)\n",
    "\n",
    "print(\"G1 = {0} \\n\\nG2 = {1} \\n\\nG3 = {2} \\n\\nG4 = {3} \".format(G1,G2,G3,G4))"
   ]
  },
  {
   "cell_type": "markdown",
   "metadata": {
    "colab_type": "text",
    "id": "dcRJ_LQG-7Vm"
   },
   "source": [
    "# G1"
   ]
  },
  {
   "cell_type": "markdown",
   "metadata": {
    "colab_type": "text",
    "id": "iCe7vmX4-UdW"
   },
   "source": [
    "Definir controlador para G1 (polo em -0.5 para cancelar zero de G1 e polos seguindo especificações)"
   ]
  },
  {
   "cell_type": "code",
   "execution_count": 3,
   "metadata": {},
   "outputs": [
    {
     "name": "stdout",
     "output_type": "stream",
     "text": [
      "\n",
      "451.9 s + 732.5\n",
      "---------------\n",
      "    s - 2213\n",
      "\n"
     ]
    }
   ],
   "source": [
    "sylv1 = Sylvester(G1)\n",
    "C1 = sylv1.C(1,10)\n",
    "print(C1)"
   ]
  },
  {
   "cell_type": "code",
   "execution_count": 6,
   "metadata": {
    "colab": {
     "base_uri": "https://localhost:8080/",
     "height": 238
    },
    "colab_type": "code",
    "id": "Xqq1jVfW5iFL",
    "outputId": "79e30a14-3ac4-4176-cd17-174839e49040",
    "scrolled": false
   },
   "outputs": [
    {
     "name": "stdout",
     "output_type": "stream",
     "text": [
      "\n",
      "1.2 s + 9.157\n",
      "-------------\n",
      "   s + 0.5\n",
      "\n"
     ]
    }
   ],
   "source": [
    "sylv1 = Sylvester(G1)\n",
    "d = sylv1.PolosOS(1,10)\n",
    "d.append(-0.5)\n",
    "D=1\n",
    "for i in d:\n",
    "    D = D*(s-i)\n",
    "D = np.transpose([ct.tfdata(D)[0][0][0][::-1]]).real\n",
    "C2 = sylv1.C(1,10,D)\n",
    "print(C2)"
   ]
  },
  {
   "cell_type": "code",
   "execution_count": 11,
   "metadata": {},
   "outputs": [
    {
     "name": "stdout",
     "output_type": "stream",
     "text": [
      "\n",
      "1.2 s + 5.521\n",
      "-------------\n",
      "   s + 0.5\n",
      "\n"
     ]
    }
   ],
   "source": [
    "sylv1 = Sylvester(G1)\n",
    "d = sylv1.PolosOS(1,2.5)\n",
    "d.append(-0.5)\n",
    "D=1\n",
    "for i in d:\n",
    "    D = D*(s-i)\n",
    "D = np.transpose([ct.tfdata(D)[0][0][0][::-1]]).real\n",
    "C3 = sylv1.C(1,10,D)\n",
    "print(C3)"
   ]
  },
  {
   "cell_type": "markdown",
   "metadata": {
    "colab_type": "text",
    "id": "ifRzmJtk-zi1"
   },
   "source": [
    "Imprimindo a curva da resposta ao degrau em malha fechada de G1"
   ]
  },
  {
   "cell_type": "code",
   "execution_count": 13,
   "metadata": {
    "colab": {
     "base_uri": "https://localhost:8080/",
     "height": 319
    },
    "colab_type": "code",
    "id": "YZ_qWz1u5iFO",
    "outputId": "54cbde4b-040d-4ef6-8688-cc305bcb1c19"
   },
   "outputs": [
    {
     "data": {
      "image/png": "[encoded data removed]",
      "text/plain": [
       "<Figure size 432x288 with 1 Axes>"
      ]
     },
     "metadata": {
      "needs_background": "light"
     },
     "output_type": "display_data"
    },
    {
     "name": "stdout",
     "output_type": "stream",
     "text": [
      "{'RiseTime': 0.0, 'SettlingTime': 1.692192192192192, 'SettlingMin': -8.617333617980947, 'SettlingMax': 39.60299400756052, 'Overshoot': 4095.501282047428, 'Undershoot': -8.617333617980947, 'Peak': 39.60299400756052, 'PeakTime': 0.052552552552552555, 'SteadyStateValue': 0.9439395043691665}\n"
     ]
    }
   ],
   "source": [
    "#MF1 = ct.feedback(series(C1, G1))\n",
    "MF2 = ct.feedback(series(C2, G1))\n",
    "MF3 = ct.feedback(series(C3, G1))\n",
    "\n",
    "plt.figure(1)\n",
    "#T1, yout1  = ct.step_response(MF1)\n",
    "#plt.plot(T1.T, yout1.T,'r')\n",
    "T2, yout2  = ct.step_response(MF2)\n",
    "plt.plot(T2.T, yout2.T,'b')\n",
    "T3, yout3  = ct.step_response(MF3)\n",
    "plt.plot(T3.T, yout3.T,'g')\n",
    "\n",
    "#Tp, youtp  = ct.step_response(MF2)\n",
    "#plt.plot(Tp.T, youtp.T,'b')\n",
    "plt.xlim(0,2)\n",
    "#plt.ylim(0,1.5)\n",
    "plt.grid()\n",
    "plt.show(block=False)\n",
    "print(stepinfo(MF1))\n",
    "#print(stepinfo(MF2))"
   ]
  },
  {
   "cell_type": "markdown",
   "metadata": {
    "colab_type": "text",
    "id": "Masj3TRwcios"
   },
   "source": [
    "Definir novo controlador para G1, para corrigir o overshoot para 10%"
   ]
  },
  {
   "cell_type": "code",
   "execution_count": 6,
   "metadata": {
    "colab": {
     "base_uri": "https://localhost:8080/",
     "height": 102
    },
    "colab_type": "code",
    "id": "-cKYNbHGcwo8",
    "outputId": "1c048f9c-cd5d-4a48-9872-cde1bb4243e5"
   },
   "outputs": [
    {
     "name": "stdout",
     "output_type": "stream",
     "text": [
      "\n",
      "1.2 s + 5.521\n",
      "-------------\n",
      "   s + 0.5\n",
      "\n"
     ]
    }
   ],
   "source": [
    "sylv1 = Sylvester(G1)\n",
    "d = sylv1.PolosOS(1,2.5)\n",
    "d.append(-0.5)\n",
    "D=1\n",
    "for i in d:\n",
    "    D = D*(s-i)\n",
    "D = np.transpose([ct.tfdata(D)[0][0][0][::-1]]).real\n",
    "C3 = sylv1.C(1,10,D)\n",
    "print(C3)"
   ]
  },
  {
   "cell_type": "markdown",
   "metadata": {
    "colab_type": "text",
    "id": "Ge22mTpfc7rM"
   },
   "source": [
    "Imprimindo a nova curva da resposta ao degrau em malha fechada de G1"
   ]
  },
  {
   "cell_type": "code",
   "execution_count": 7,
   "metadata": {
    "colab": {
     "base_uri": "https://localhost:8080/",
     "height": 319
    },
    "colab_type": "code",
    "id": "bB7Xy3Q4c8O4",
    "outputId": "91f1c7f2-b20e-48ee-8c23-7765e85aae27",
    "scrolled": false
   },
   "outputs": [
    {
     "data": {
      "image/png": "[encoded data removed]",
      "text/plain": [
       "<Figure size 432x288 with 1 Axes>"
      ]
     },
     "metadata": {
      "needs_background": "light"
     },
     "output_type": "display_data"
    },
    {
     "name": "stdout",
     "output_type": "stream",
     "text": [
      "{'RiseTime': 0.22422422422422436, 'SettlingTime': 0.9669669669669675, 'SettlingMin': 0.9240611149068892, 'SettlingMax': 1.0967973258719008, 'Overshoot': 9.679732587190106, 'Undershoot': 0.0, 'Peak': 1.0967973258719008, 'PeakTime': 0.5185185185185188, 'SteadyStateValue': 0.9999999999999998}\n",
      "{'RiseTime': 0.01401401401401402, 'SettlingTime': 1.5975975975975985, 'SettlingMin': 0.08162949088160051, 'SettlingMax': 0.4479403321068657, 'Overshoot': 394.6088472442925, 'Undershoot': 0.0, 'Peak': 0.4479403321068657, 'PeakTime': 0.22422422422422433, 'SteadyStateValue': 0.09056456118861603}\n"
     ]
    }
   ],
   "source": [
    "MF1 = ct.feedback(series(C1, G1))\n",
    "MF2 = ct.feedback(G1, C1)\n",
    "plt.figure(1)\n",
    "Ts, youts  = ct.step_response(MF1)\n",
    "plt.plot(Ts.T, youts.T,'r')\n",
    "#Tp, youtp  = ct.step_response(MF2)\n",
    "#plt.plot(Tp.T, youtp.T,'b')\n",
    "plt.xlim(0,2)\n",
    "plt.ylim(0,1.5)\n",
    "plt.grid()\n",
    "plt.show(block=False)\n",
    "print(stepinfo(MF1))\n",
    "print(stepinfo(MF2))"
   ]
  },
  {
   "cell_type": "markdown",
   "metadata": {},
   "source": [
    "Bode Plot"
   ]
  },
  {
   "cell_type": "code",
   "execution_count": 98,
   "metadata": {
    "scrolled": false
   },
   "outputs": [
    {
     "name": "stdout",
     "output_type": "stream",
     "text": [
      "\n",
      "\n",
      "\t A margem de ganho da entrada é inf dB na frequência nan Hz \n",
      "\n",
      "\t A margem de fase da entrada é 139.1° na frequência 5.216 Hz\n",
      "\n",
      "\n",
      "\t A margem de ganho do distúrbio é 1.6 dB na frequência 4.858 Hz \n",
      "\n",
      "\t A margem de fase da entrada é inf° na frequência nan Hz\n",
      "\n",
      "\n",
      "\t A margem de ganho do ruído é 1.0 dB na frequência 0.0 Hz \n",
      "\n",
      "\t A margem de fase da entrada é -40.87° na frequência 5.216 Hz\n"
     ]
    },
    {
     "data": {
      "image/png": "[encoded data removed]",
      "text/plain": [
       "<Figure size 432x288 with 2 Axes>"
      ]
     },
     "metadata": {
      "needs_background": "light"
     },
     "output_type": "display_data"
    }
   ],
   "source": [
    "MF1 = ct.feedback(series(C1, G1))         #entrada (Azul)\n",
    "MF2 = ct.feedback(-G1,C1,sign=1)          #preturbação (Amarelo)\n",
    "MF3 = ct.feedback(series(-C1, G1),sign=1) #ruido (Verde)\n",
    "\n",
    "w = np.logspace(e-4,2)\n",
    "ct.bode_plot([MF1,MF2,MF3],w)\n",
    "#ct.bode_plot([MF1])\n",
    "plt.tight_layout()\n",
    "\n",
    "ax1,ax2 = plt.gcf().axes     # get subplot axes\n",
    "\n",
    "plt.sca(ax1)                 # magnitude plot\n",
    "plt.plot(plt.xlim(),[-3,-3],'r--')\n",
    "plt.plot(plt.xlim(),[-24,-24],'k--')\n",
    "\n",
    "print('\\n\\n\\t A margem de ganho da entrada é {0:.4} dB na frequência {1:.4} Hz \\n\\n\\t A margem de fase da entrada é {2:.4}° na frequência {3:.4} Hz'.format(margin(MF1)[0],margin(MF1)[2],margin(MF1)[1],margin(MF1)[3]))\n",
    "print('\\n\\n\\t A margem de ganho do distúrbio é {0:.4} dB na frequência {1:.4} Hz \\n\\n\\t A margem de fase da entrada é {2:.4}° na frequência {3:.4} Hz'.format(margin(MF2)[0],margin(MF2)[2],margin(MF2)[1],margin(MF2)[3]))\n",
    "print('\\n\\n\\t A margem de ganho do ruído é {0:.4} dB na frequência {1:.4} Hz \\n\\n\\t A margem de fase da entrada é {2:.4}° na frequência {3:.4} Hz'.format(margin(MF3)[0],margin(MF3)[2],margin(MF3)[1],margin(MF3)[3]))\n"
   ]
  },
  {
   "cell_type": "markdown",
   "metadata": {
    "colab_type": "text",
    "id": "U_tNDGyF-_lm"
   },
   "source": [
    "# G2"
   ]
  },
  {
   "cell_type": "markdown",
   "metadata": {
    "colab_type": "text",
    "id": "fEhQhGwG-_HN"
   },
   "source": [
    "Definir controlador para G2 (polo seguindo especificações E G2 pré-compensado)"
   ]
  },
  {
   "cell_type": "code",
   "execution_count": 26,
   "metadata": {
    "colab": {
     "base_uri": "https://localhost:8080/",
     "height": 170
    },
    "colab_type": "code",
    "id": "j0uc-OY05iFT",
    "outputId": "acf5050c-9f72-4237-e56c-0214b6e74dc9",
    "scrolled": true
   },
   "outputs": [
    {
     "name": "stdout",
     "output_type": "stream",
     "text": [
      "4 states have been removed from the model\n",
      "\n",
      "29.65 s + 99.66\n",
      "---------------\n",
      "    s + 0.5\n",
      "\n",
      "[[ 80. ]\n",
      " [182. ]\n",
      " [ 44.5]\n",
      " [  1. ]]\n",
      "[[ 2.          0.          0.79268293  0.        ]\n",
      " [-3.          2.          1.58536585  0.79268293]\n",
      " [ 1.         -3.          0.          1.58536585]\n",
      " [ 0.          1.          0.          0.        ]]\n"
     ]
    }
   ],
   "source": [
    "PG2 = (s**2 + 8*s + 41)/((s**2 + 6*s + 13))\n",
    "PG2 = (ct.dcgain(PG2)**-1)*PG2\n",
    "G2n = minreal(PG2*G2)\n",
    "sylv2 = Sylvester(G2n)\n",
    "d = sylv2.PolosOS(1,0)\n",
    "d.append(-0.5)\n",
    "d.append(-40)\n",
    "D=1\n",
    "for i in d:\n",
    "    D = D*(s-i)\n",
    "D = np.transpose([ct.tfdata(D)[0][0][0][::-1]]).real\n",
    "C2 = sylv2.C(1,0,D)\n",
    "print(C2)\n",
    "print(D)\n",
    "print(sylv2.E())"
   ]
  },
  {
   "cell_type": "code",
   "execution_count": 27,
   "metadata": {},
   "outputs": [
    {
     "data": {
      "image/png": "[encoded data removed]",
      "text/plain": [
       "<Figure size 432x288 with 1 Axes>"
      ]
     },
     "metadata": {
      "needs_background": "light"
     },
     "output_type": "display_data"
    },
    {
     "name": "stdout",
     "output_type": "stream",
     "text": [
      "{'RiseTime': 0.0, 'SettlingTime': 1.4994994994994995, 'SettlingMin': 0.9999999999999875, 'SettlingMax': 6.344387404617433, 'Overshoot': 534.4387404617501, 'Undershoot': 0.0, 'Peak': 6.344387404617433, 'PeakTime': 0.07007007007007007, 'SteadyStateValue': 0.9999999999999895}\n",
      "201.8461538461538\n",
      "{'RiseTime': 0.0, 'SettlingTime': 1.4994994994994995, 'SettlingMin': 0.004954268292682865, 'SettlingMax': 0.03143179735519308, 'Overshoot': 534.4387404617501, 'Undershoot': 0.0, 'Peak': 0.03143179735519308, 'PeakTime': 0.07007007007007007, 'SteadyStateValue': 0.004954268292682875}\n"
     ]
    }
   ],
   "source": [
    "MF1 = (ct.dcgain(ct.feedback(G2n, C2)**-1))*ct.feedback(G2n, C2)\n",
    "MF2 = ct.feedback(G2n, C2)\n",
    "#ct.dcgain(MF1)\n",
    "plt.figure(1)\n",
    "Ts, youts  = ct.step_response(MF1)\n",
    "plt.plot(Ts.T, youts.T,'m')\n",
    "Tp, youtp  = ct.step_response(MF2)\n",
    "plt.plot(Tp.T, youtp.T,'r')\n",
    "plt.grid()\n",
    "plt.xlim(0,2)\n",
    "plt.show(block=False)\n",
    "print(stepinfo(MF1))\n",
    "print(ct.dcgain(ct.feedback(G2n, C2))**-1)\n",
    "print(stepinfo(MF2))"
   ]
  },
  {
   "cell_type": "markdown",
   "metadata": {},
   "source": [
    "Controlador compensando "
   ]
  },
  {
   "cell_type": "code",
   "execution_count": 30,
   "metadata": {},
   "outputs": [
    {
     "name": "stdout",
     "output_type": "stream",
     "text": [
      "4 states have been removed from the model\n",
      "\n",
      "4.73 s - 0.002523\n",
      "-----------------\n",
      "     s + 0.5\n",
      "\n",
      "[[0.998 ]\n",
      " [4.2455]\n",
      " [4.999 ]\n",
      " [1.    ]]\n",
      "[[ 2.          0.          0.79268293  0.        ]\n",
      " [-3.          2.          1.58536585  0.79268293]\n",
      " [ 1.         -3.          0.          1.58536585]\n",
      " [ 0.          1.          0.          0.        ]]\n"
     ]
    }
   ],
   "source": [
    "PG2 = (s**2 + 8*s + 41)/((s**2 + 6*s + 13))\n",
    "PG2 = (ct.dcgain(PG2)**-1)*PG2\n",
    "G2n = minreal(PG2*G2)\n",
    "sylv2 = Sylvester(G2n)\n",
    "d = sylv2.PolosOS(1,0)\n",
    "d.append(-0.5)\n",
    "d.append(-0.499)\n",
    "D=1\n",
    "for i in d:\n",
    "    D = D*(s-i)\n",
    "D = np.transpose([ct.tfdata(D)[0][0][0][::-1]]).real\n",
    "C1 = sylv2.C(1,0,D)\n",
    "print(C1)\n",
    "print(D)\n",
    "print(sylv2.E())\n"
   ]
  },
  {
   "cell_type": "code",
   "execution_count": 31,
   "metadata": {},
   "outputs": [
    {
     "name": "stdout",
     "output_type": "stream",
     "text": [
      "4 states have been removed from the model\n",
      "\n",
      "4.73 s - 0.002523\n",
      "-----------------\n",
      "     s + 0.5\n",
      "\n",
      "[[0.998 ]\n",
      " [4.2455]\n",
      " [4.999 ]\n",
      " [1.    ]]\n",
      "[[ 2.          0.          0.79268293  0.        ]\n",
      " [-3.          2.          1.58536585  0.79268293]\n",
      " [ 1.         -3.          0.          1.58536585]\n",
      " [ 0.          1.          0.          0.        ]]\n"
     ]
    }
   ],
   "source": [
    "PG2 = (s**2 + 8*s + 41)/((s**2 + 6*s + 13))\n",
    "PG2 = (ct.dcgain(PG2)**-1)*PG2\n",
    "G2n = minreal(PG2*G2)\n",
    "sylv2 = Sylvester(G2n)\n",
    "d = sylv2.PolosOS(1,0)\n",
    "d.append(-0.5)\n",
    "d.append(-0.499)\n",
    "D=1\n",
    "for i in d:\n",
    "    D = D*(s-i)\n",
    "D = np.transpose([ct.tfdata(D)[0][0][0][::-1]]).real\n",
    "C2 = sylv2.C(1,0,D)\n",
    "print(C2)\n",
    "print(D)\n",
    "print(sylv2.E())\n"
   ]
  },
  {
   "cell_type": "markdown",
   "metadata": {
    "colab_type": "text",
    "id": "hykQFc7M_fjG"
   },
   "source": [
    "Imprimindo a nova curva da resposta ao degrau em malha fechada de G2"
   ]
  },
  {
   "cell_type": "code",
   "execution_count": 33,
   "metadata": {
    "colab": {
     "base_uri": "https://localhost:8080/",
     "height": 276
    },
    "colab_type": "code",
    "id": "kgdh4ulF5iFX",
    "outputId": "0f958741-2f30-4d5d-ad72-e1d8afc1530b",
    "scrolled": true
   },
   "outputs": [
    {
     "data": {
      "image/png": "[encoded data removed]",
      "text/plain": [
       "<Figure size 432x288 with 1 Axes>"
      ]
     },
     "metadata": {
      "needs_background": "light"
     },
     "output_type": "display_data"
    },
    {
     "name": "stdout",
     "output_type": "stream",
     "text": [
      "{'RiseTime': 0.56168392841775, 'SettlingTime': 0.9969889729415061, 'SettlingMin': 0.9040056161344969, 'SettlingMax': 0.9999979162937097, 'Overshoot': 0.0, 'Undershoot': 0.0, 'Peak': 0.9999979162937097, 'PeakTime': 14.028056112233305, 'SteadyStateValue': 0.9999979162937097}\n"
     ]
    }
   ],
   "source": [
    "MF1 = (ct.dcgain(ct.feedback(G2n, C1)**-1))*ct.feedback(G2n, C1)\n",
    "MF2 = (ct.dcgain(ct.feedback(G2n, C2)**-1))*ct.feedback(G2n, C2)\n",
    "#ct.dcgain(MF1)\n",
    "plt.figure(1)\n",
    "Ts, youts  = ct.step_response(MF1)\n",
    "plt.plot(Ts.T, youts.T,'g')\n",
    "Tp, youtp  = ct.step_response(MF2)\n",
    "plt.plot(Tp.T, youtp.T,'k:')\n",
    "plt.grid()\n",
    "plt.xlim(0,3)\n",
    "plt.show(block=False)\n",
    "#print(stepinfo(MF1))\n",
    "print(stepinfo(MF2))"
   ]
  },
  {
   "cell_type": "markdown",
   "metadata": {},
   "source": [
    "Bode plot"
   ]
  },
  {
   "cell_type": "code",
   "execution_count": 112,
   "metadata": {},
   "outputs": [
    {
     "name": "stdout",
     "output_type": "stream",
     "text": [
      "\n",
      "\n",
      "\t A margem de ganho da entrada é inf dB na frequência nan Hz \n",
      "\n",
      "\t A margem de fase da entrada é inf° na frequência nan Hz\n",
      "\n",
      "\n",
      "\t A margem de ganho do distúrbio é 0.5999 dB na frequência 1.414 Hz \n",
      "\n",
      "\t A margem de fase da entrada é -53.13° na frequência 6.316 Hz\n",
      "\n",
      "\n",
      "\t A margem de ganho do ruído é 1.229 dB na frequência 0.0 Hz \n",
      "\n",
      "\t A margem de fase da entrada é 25.29° na frequência 1.327 Hz\n"
     ]
    },
    {
     "data": {
      "image/png": "[encoded data removed]",
      "text/plain": [
       "<Figure size 432x288 with 2 Axes>"
      ]
     },
     "metadata": {
      "needs_background": "light"
     },
     "output_type": "display_data"
    }
   ],
   "source": [
    "MF1 = (ct.dcgain(ct.feedback(G2n, C2)**-1))*ct.feedback(G2n, C2) #Entrada (Azul)\n",
    "MF2 = ct.feedback(series(-G2n, C2),sign=1)                       #Disturbio (Amarelo)\n",
    "MF3 = ct.feedback(series(C1, -G2n),sign=1)                       #Ruido (Verde)\n",
    "\n",
    "#w = np.logspace(e-4,2) #com zoom\n",
    "w = np.logspace(e-7,6)#sem zoom \n",
    "ct.bode_plot([MF1,MF2,MF3],w)\n",
    "#ct.bode_plot([MF1])\n",
    "plt.tight_layout()\n",
    "\n",
    "ax1,ax2 = plt.gcf().axes     # get subplot axes\n",
    "\n",
    "plt.sca(ax1)                 # magnitude plot\n",
    "plt.plot(plt.xlim(),[-3,-3],'r--')\n",
    "plt.plot(plt.xlim(),[-5,-5],'m--')\n",
    "plt.plot(plt.xlim(),[-57,-57],'k--')\n",
    "\n",
    "\n",
    "print('\\n\\n\\t A margem de ganho da entrada é {0:.4} dB na frequência {1:.4} Hz \\n\\n\\t A margem de fase da entrada é {2:.4}° na frequência {3:.4} Hz'.format(margin(MF1)[0],margin(MF1)[2],margin(MF1)[1],margin(MF1)[3]))\n",
    "print('\\n\\n\\t A margem de ganho do distúrbio é {0:.4} dB na frequência {1:.4} Hz \\n\\n\\t A margem de fase da entrada é {2:.4}° na frequência {3:.4} Hz'.format(margin(MF2)[0],margin(MF2)[2],margin(MF2)[1],margin(MF2)[3]))\n",
    "print('\\n\\n\\t A margem de ganho do ruído é {0:.4} dB na frequência {1:.4} Hz \\n\\n\\t A margem de fase da entrada é {2:.4}° na frequência {3:.4} Hz'.format(margin(MF3)[0],margin(MF3)[2],margin(MF3)[1],margin(MF3)[3]))\n"
   ]
  },
  {
   "cell_type": "code",
   "execution_count": 55,
   "metadata": {},
   "outputs": [
    {
     "data": {
      "text/plain": [
       "[<matplotlib.lines.Line2D at 0x18b9b628848>]"
      ]
     },
     "execution_count": 55,
     "metadata": {},
     "output_type": "execute_result"
    },
    {
     "data": {
      "image/png": "[encoded data removed]",
      "text/plain": [
       "<Figure size 432x288 with 2 Axes>"
      ]
     },
     "metadata": {
      "needs_background": "light"
     },
     "output_type": "display_data"
    }
   ],
   "source": [
    "MF1 = (ct.dcgain(ct.feedback(G2n, C2)**-1))*ct.feedback(G2n, C2)\n",
    "\n",
    "mag1,phase1,omega1 = ct.bode_plot(MF1,dB=True)\n",
    "plt.tight_layout()\n",
    "\n",
    "ax1,ax2 = plt.gcf().axes     # get subplot axes\n",
    "\n",
    "plt.sca(ax1)                 # magnitude plot\n",
    "plt.plot(plt.xlim(),[-3,-3],'r--')\n"
   ]
  },
  {
   "cell_type": "markdown",
   "metadata": {
    "colab_type": "text",
    "id": "LfxqV0h4_lKN"
   },
   "source": [
    "# G3"
   ]
  },
  {
   "cell_type": "markdown",
   "metadata": {
    "colab_type": "text",
    "id": "nrNcgUs2_uIF"
   },
   "source": [
    "Controlador pra G3 para menor undershoot"
   ]
  },
  {
   "cell_type": "code",
   "execution_count": 20,
   "metadata": {},
   "outputs": [
    {
     "name": "stdout",
     "output_type": "stream",
     "text": [
      "\n",
      "-31.66 s - 86.76\n",
      "----------------\n",
      "    s + 206.3\n",
      "\n"
     ]
    }
   ],
   "source": [
    "G = G3\n",
    "sy = Sylvester(G)\n",
    "C = sy.C(1,5)\n",
    "print(C)"
   ]
  },
  {
   "cell_type": "code",
   "execution_count": 94,
   "metadata": {},
   "outputs": [],
   "source": [
    "G =G3\n",
    "\n",
    "sy = Sylvester(G)\n",
    "\n",
    "ts = 0.7\n",
    "ts0,ts1,ts2 = [],[],[]\n",
    "Mup0,Mup1,Mup2 = [],[],[]\n",
    "Mdown1,Mdown2 = [],[]\n",
    "\n",
    "#Testar diferentes parâmetros para o controlador\n",
    "while ts <= 1.4:\n",
    "                for Mup in range(0,50,2):\n",
    "                                C = sy.C(ts, Mup)\n",
    "                                MF1 = ct.dcgain(ct.feedback(series(C, G)))**(-1)*ct.feedback(series(G, C))\n",
    "                                MF2 = ct.dcgain(ct.feedback(G, C))**(-1)*ct.feedback(G, C)\n",
    "                                #salvar o tempo de acomodação\n",
    "                                ts0.append(ts)  #tempo parametrizado\n",
    "                                ts1.append(stepinfo(MF1)['SettlingTime']) #tempo atingido\n",
    "                                ts2.append(stepinfo(MF2)['SettlingTime'])\n",
    "                                #salvar overshoot\n",
    "                                Mup0.append(Mup)  #overshoot parametrizado\n",
    "                                Mup1.append(stepinfo(MF1)['Overshoot']) #overshoot atingido\n",
    "                                Mup2.append(stepinfo(MF2)['Overshoot'])\n",
    "                                #salvar undershoots atingidos\n",
    "                                Mdown1.append(stepinfo(MF1)['Undershoot'])\n",
    "                                Mdown2.append(stepinfo(MF2)['Undershoot'])\n",
    "                ts += 0.1\n",
    "\n",
    "melhorSerie = 0\n",
    "melhorParalelo = 0\n",
    "\n",
    "for i in range(1, len(ts0) - 1):  #Verificar qual controlador calculado apresenta melhor desempenho \n",
    "                #Verificar controlador em série\n",
    "                if ts1[i] <= 1.05:\n",
    "                                if Mdown1[i] <= Mdown1[i-1]:\n",
    "                                                melhorSerie = i\n",
    "                #Verificar controlador em paralelo\n",
    "                if ts2[i] <= 1.05:\n",
    "                                if Mdown2[i] <= Mdown2[i-1]:\n",
    "                                                melhorParalelo = i"
   ]
  },
  {
   "cell_type": "code",
   "execution_count": 95,
   "metadata": {},
   "outputs": [
    {
     "name": "stdout",
     "output_type": "stream",
     "text": [
      "\n",
      "\n",
      "\t Melhor Controlador em Série: \n",
      " \n",
      "-68.13 s - 223.9\n",
      "----------------\n",
      "    s + 400.7\n",
      "\n",
      "\n",
      "\n",
      "\t ts = 0.7999999999999999s e OS = 12% \n",
      "\n",
      "\n",
      "\t Melhor Controlador em Paralelo: \n",
      " \n",
      "-36.88 s - 110.4\n",
      "----------------\n",
      "    s + 232.4\n",
      "\n",
      "\n",
      "\n",
      "\t ts = 0.9999999999999999s e OS = 10% \n"
     ]
    }
   ],
   "source": [
    "####CALCULAR MELHOR CONTROLADOR EM SÉRIE\n",
    "C = sy.C(ts0[melhorSerie],Mup0[melhorSerie])\n",
    "\n",
    "print('\\n\\n\\t Melhor Controlador em Série: \\n', C)\n",
    "print(\"\\n\\n\\t ts = {0}s e OS = {1}% \".format(ts0[melhorSerie],Mup0[melhorSerie]))\n",
    "\n",
    "\n",
    "\n",
    "####CALCULAR MELHOR CONTROLADOR EM PARALELO\n",
    "C = sy.C(ts0[melhorParalelo],Mup0[melhorParalelo])\n",
    "\n",
    "print('\\n\\n\\t Melhor Controlador em Paralelo: \\n', C)\n",
    "print(\"\\n\\n\\t ts = {0}s e OS = {1}% \".format(ts0[melhorParalelo],Mup0[melhorParalelo]))\n"
   ]
  },
  {
   "cell_type": "markdown",
   "metadata": {},
   "source": [
    "Imprimir resposta ao degrau de G3"
   ]
  },
  {
   "cell_type": "code",
   "execution_count": 96,
   "metadata": {},
   "outputs": [
    {
     "data": {
      "image/png": "[encoded data removed]",
      "text/plain": [
       "<Figure size 432x288 with 1 Axes>"
      ]
     },
     "metadata": {
      "needs_background": "light"
     },
     "output_type": "display_data"
    },
    {
     "name": "stdout",
     "output_type": "stream",
     "text": [
      "\n",
      "\t {'RiseTime': 0.050800800800800794, 'SettlingTime': 1.27002002002002, 'SettlingMin': 0.9069799189204205, 'SettlingMax': 1.9302112642272322, 'Overshoot': 92.22751081821119, 'Undershoot': -1.8485282749952032, 'Peak': 1.9302112642272322, 'PeakTime': 0.3818818818818819, 'SteadyStateValue': 1.0041285225050984}\n",
      "\n",
      "\t {'RiseTime': 0.20320320320320318, 'SettlingTime': 1.0195195195195195, 'SettlingMin': 0.9045824990161068, 'SettlingMax': 1.1389562761560565, 'Overshoot': 13.783764330864585, 'Undershoot': -0.39146471735860744, 'Peak': 1.1389562761560565, 'PeakTime': 0.698948948948949, 'SteadyStateValue': 1.0009831216729286}\n"
     ]
    }
   ],
   "source": [
    "MF1 = ct.dcgain(ct.feedback(series(C, G)))**(-1)*ct.feedback(series(G, C))\n",
    "MF2 = ct.dcgain(ct.feedback(G, C))**(-1)*ct.feedback(G, C)\n",
    "\n",
    "plt.figure(2)\n",
    "youts, Ts = step(MF1)\n",
    "plt.plot(Ts.T, youts.T,'r')\n",
    "youts, Ts = step(MF2)\n",
    "plt.plot(Ts.T, youts.T,'b')\n",
    "plt.xlim(0,1.5)\n",
    "plt.ylim(-3,5)\n",
    "plt.grid()\n",
    "plt.show(block=False)\n",
    "\n",
    "print(\"\\n\\t\", stepinfo(MF1))\n",
    "print(\"\\n\\t\", stepinfo(MF2))"
   ]
  },
  {
   "cell_type": "markdown",
   "metadata": {},
   "source": [
    "Controlador pra G3 para menor Ts"
   ]
  },
  {
   "cell_type": "code",
   "execution_count": 92,
   "metadata": {},
   "outputs": [],
   "source": [
    "G =G3\n",
    "\n",
    "sy = Sylvester(G)\n",
    "\n",
    "ts = 0.7\n",
    "ts0,ts1,ts2 = [],[],[]\n",
    "Mup0,Mup1,Mup2 = [],[],[]\n",
    "Mdown1,Mdown2 = [],[]\n",
    "\n",
    "#Testar diferentes parâmetros para o controlador\n",
    "while ts <= 1.4:\n",
    "                for Mup in range(0,50,2):\n",
    "                                C = sy.C(ts, Mup)\n",
    "                                MF1 = ct.dcgain(ct.feedback(series(C, G)))**(-1)*ct.feedback(series(G, C))\n",
    "                                MF2 = ct.dcgain(ct.feedback(G, C))**(-1)*ct.feedback(G, C)\n",
    "                                #salvar o tempo de acomodação\n",
    "                                ts0.append(ts)  #tempo parametrizado\n",
    "                                ts1.append(stepinfo(MF1)['SettlingTime']) #tempo atingido\n",
    "                                ts2.append(stepinfo(MF2)['SettlingTime'])\n",
    "                                #salvar overshoot\n",
    "                                Mup0.append(Mup)  #overshoot parametrizado\n",
    "                                Mup1.append(stepinfo(MF1)['Overshoot']) #overshoot atingido\n",
    "                                Mup2.append(stepinfo(MF2)['Overshoot'])\n",
    "                                #salvar undershoots atingidos\n",
    "                                Mdown1.append(stepinfo(MF1)['RiseTime'])\n",
    "                                Mdown2.append(stepinfo(MF2)['RiseTime'])\n",
    "                ts += 0.1\n",
    "\n",
    "melhorSerie = 0\n",
    "melhorParalelo = 0\n",
    "\n",
    "for i in range(1, len(ts0) - 1):  #Verificar qual controlador calculado apresenta melhor desempenho \n",
    "                #Verificar controlador em série\n",
    "                if ts1[i] <= 1.05:\n",
    "                                if Mdown1[i] <= Mdown1[i-1]:\n",
    "                                                melhorSerie = i\n",
    "                #Verificar controlador em paralelo\n",
    "                if ts2[i] <= 1.05:\n",
    "                                if Mdown2[i] <= Mdown2[i-1]:\n",
    "                                                melhorParalelo = i"
   ]
  },
  {
   "cell_type": "code",
   "execution_count": 93,
   "metadata": {},
   "outputs": [
    {
     "name": "stdout",
     "output_type": "stream",
     "text": [
      "\n",
      "\n",
      "\t Melhor Controlador em Série: \n",
      " \n",
      "-68.13 s - 223.9\n",
      "----------------\n",
      "    s + 400.7\n",
      "\n",
      "\n",
      "\n",
      "\t ts = 0.7999999999999999s e OS = 12% \n",
      "\n",
      "\n",
      "\t Melhor Controlador em Paralelo: \n",
      " \n",
      "-36.88 s - 110.4\n",
      "----------------\n",
      "    s + 232.4\n",
      "\n",
      "\n",
      "\n",
      "\t ts = 0.9999999999999999s e OS = 10% \n"
     ]
    }
   ],
   "source": [
    "####CALCULAR MELHOR CONTROLADOR EM SÉRIE\n",
    "C = sy.C(ts0[melhorSerie],Mup0[melhorSerie])\n",
    "\n",
    "print('\\n\\n\\t Melhor Controlador em Série: \\n', C)\n",
    "print(\"\\n\\n\\t ts = {0}s e OS = {1}% \".format(ts0[melhorSerie],Mup0[melhorSerie]))\n",
    "\n",
    "\n",
    "\n",
    "####CALCULAR MELHOR CONTROLADOR EM PARALELO\n",
    "C = sy.C(ts0[melhorParalelo],Mup0[melhorParalelo])\n",
    "\n",
    "\n",
    "print('\\n\\n\\t Melhor Controlador em Paralelo: \\n', C)\n",
    "print(\"\\n\\n\\t ts = {0}s e OS = {1}% \".format(ts0[melhorParalelo],Mup0[melhorParalelo]))\n"
   ]
  },
  {
   "cell_type": "code",
   "execution_count": 94,
   "metadata": {},
   "outputs": [
    {
     "data": {
      "image/png": "[encoded data removed]",
      "text/plain": [
       "<Figure size 432x288 with 1 Axes>"
      ]
     },
     "metadata": {
      "needs_background": "light"
     },
     "output_type": "display_data"
    },
    {
     "name": "stdout",
     "output_type": "stream",
     "text": [
      "\n",
      "\t {'RiseTime': 0.026626626626626626, 'SettlingTime': 0.9655655655655652, 'SettlingMin': 0.821733680947561, 'SettlingMax': 2.4855313933492877, 'Overshoot': 148.17688255240088, 'Undershoot': -2.997590913288365, 'Peak': -2.997590913288365, 'PeakTime': 0.03363363363363362, 'SteadyStateValue': 1.0015160831204672}\n",
      "\n",
      "\t {'RiseTime': 0.20320320320320318, 'SettlingTime': 1.0195195195195195, 'SettlingMin': 0.9045824990161068, 'SettlingMax': 1.1389562761560565, 'Overshoot': 13.783764330864585, 'Undershoot': -0.39146471735860744, 'Peak': 1.1389562761560565, 'PeakTime': 0.698948948948949, 'SteadyStateValue': 1.0009831216729286}\n"
     ]
    }
   ],
   "source": [
    "MF1 = ct.dcgain(ct.feedback(series(C, G)))**(-1)*ct.feedback(series(G, C))\n",
    "MF2 = ct.dcgain(ct.feedback(G, C))**(-1)*ct.feedback(G, C)\n",
    "\n",
    "plt.figure(2)\n",
    "youts, Ts = step(MF1)\n",
    "plt.plot(Ts.T, youts.T,'r')\n",
    "youts, Ts = step(MF2)\n",
    "plt.plot(Ts.T, youts.T,'b')\n",
    "plt.xlim(0,1.5)\n",
    "plt.ylim(-3,5)\n",
    "plt.grid()\n",
    "plt.show(block=False)\n",
    "\n",
    "print(\"\\n\\t\", stepinfo(MF1))\n",
    "print(\"\\n\\t\", stepinfo(MF2))"
   ]
  },
  {
   "cell_type": "markdown",
   "metadata": {},
   "source": [
    "Bode G3 Série "
   ]
  },
  {
   "cell_type": "code",
   "execution_count": 120,
   "metadata": {},
   "outputs": [
    {
     "name": "stdout",
     "output_type": "stream",
     "text": [
      "\n",
      "\n",
      "\t A margem de ganho da entrada é 0.3477 dB na frequência 21.24 Hz \n",
      "\n",
      "\t A margem de fase da entrada é -66.0° na frequência 115.9 Hz\n",
      "\n",
      "\n",
      "\t A margem de ganho do distúrbio é 0.2589 dB na frequência 8.451 Hz \n",
      "\n",
      "\t A margem de fase da entrada é -86.65° na frequência 25.57 Hz\n",
      "\n",
      "\n",
      "\t A margem de ganho do ruído é 0.6633 dB na frequência 0.0 Hz \n",
      "\n",
      "\t A margem de fase da entrada é 105.7° na frequência 180.2 Hz\n"
     ]
    },
    {
     "data": {
      "image/png": "[encoded data removed]",
      "text/plain": [
       "<Figure size 432x288 with 2 Axes>"
      ]
     },
     "metadata": {
      "needs_background": "light"
     },
     "output_type": "display_data"
    }
   ],
   "source": [
    "MF1 = ct.dcgain(ct.feedback(series(C, G)))**(-1)*ct.feedback(series(G, C)) #Entrada (Azul)\n",
    "MF2 = ct.feedback(-G,C,sign=1)                                             #preturbação (Amarelo)\n",
    "MF3 = ct.feedback(series(-C, G),sign=1)                                    #ruido (Verde)\n",
    "\n",
    "w = np.logspace(e-4,3) #com zoom\n",
    "#w = np.logspace(e-20,17)#sem zoom \n",
    "ct.bode_plot([MF1,MF2,MF3],w)\n",
    "#ct.bode_plot([MF1])\n",
    "plt.tight_layout()\n",
    "\n",
    "ax1,ax2 = plt.gcf().axes     # get subplot axes\n",
    "\n",
    "plt.sca(ax1)                 # magnitude plot\n",
    "plt.plot(plt.xlim(),[-3,-3],'r--')\n",
    "plt.plot(plt.xlim(),[1,1],'m--')\n",
    "plt.plot(plt.xlim(),[7,7],'k--')\n",
    "\n",
    "\n",
    "print('\\n\\n\\t A margem de ganho da entrada é {0:.4} dB na frequência {1:.4} Hz \\n\\n\\t A margem de fase da entrada é {2:.4}° na frequência {3:.4} Hz'.format(margin(MF1)[0],margin(MF1)[2],margin(MF1)[1],margin(MF1)[3]))\n",
    "print('\\n\\n\\t A margem de ganho do distúrbio é {0:.4} dB na frequência {1:.4} Hz \\n\\n\\t A margem de fase da entrada é {2:.4}° na frequência {3:.4} Hz'.format(margin(MF2)[0],margin(MF2)[2],margin(MF2)[1],margin(MF2)[3]))\n",
    "print('\\n\\n\\t A margem de ganho do ruído é {0:.4} dB na frequência {1:.4} Hz \\n\\n\\t A margem de fase da entrada é {2:.4}° na frequência {3:.4} Hz'.format(margin(MF3)[0],margin(MF3)[2],margin(MF3)[1],margin(MF3)[3]))"
   ]
  },
  {
   "cell_type": "markdown",
   "metadata": {},
   "source": [
    "Bode G3 Paralelo"
   ]
  },
  {
   "cell_type": "code",
   "execution_count": 127,
   "metadata": {},
   "outputs": [
    {
     "name": "stdout",
     "output_type": "stream",
     "text": [
      "\n",
      "\n",
      "\t A margem de ganho da entrada é 0.8213 dB na frequência 8.451 Hz \n",
      "\n",
      "\t A margem de fase da entrada é -21.78° na frequência 10.26 Hz\n",
      "\n",
      "\n",
      "\t A margem de ganho do distúrbio é 0.2589 dB na frequência 8.451 Hz \n",
      "\n",
      "\t A margem de fase da entrada é -86.65° na frequência 25.57 Hz\n",
      "\n",
      "\n",
      "\t A margem de ganho do ruído é 0.6633 dB na frequência 0.0 Hz \n",
      "\n",
      "\t A margem de fase da entrada é 105.7° na frequência 180.2 Hz\n"
     ]
    },
    {
     "data": {
      "image/png": "[encoded data removed]",
      "text/plain": [
       "<Figure size 432x288 with 2 Axes>"
      ]
     },
     "metadata": {
      "needs_background": "light"
     },
     "output_type": "display_data"
    }
   ],
   "source": [
    "MF1 = (ct.dcgain(ct.feedback(G, C)**-1))*ct.feedback(G, C) #Entrada (Azul)\n",
    "MF2 = ct.feedback(-G,C,sign=1)          #preturbação (Amarelo)\n",
    "MF3 = ct.feedback(series(C, -G),sign=1) #ruido (Verde)\n",
    "\n",
    "w = np.logspace(e-4,2.3) #com zoom\n",
    "#w = np.logspace(e-20,17)#sem zoom \n",
    "ct.bode_plot([MF1,MF2,MF3],w)\n",
    "#ct.bode_plot([MF1])\n",
    "plt.tight_layout()\n",
    "\n",
    "ax1,ax2 = plt.gcf().axes     # get subplot axes\n",
    "\n",
    "plt.sca(ax1)                 # magnitude plot\n",
    "plt.plot(plt.xlim(),[-3,-3],'r--')\n",
    "plt.plot(plt.xlim(),[1,1],'m--')\n",
    "plt.plot(plt.xlim(),[7,7],'k--')\n",
    "\n",
    "\n",
    "print('\\n\\n\\t A margem de ganho da entrada é {0:.4} dB na frequência {1:.4} Hz \\n\\n\\t A margem de fase da entrada é {2:.4}° na frequência {3:.4} Hz'.format(margin(MF1)[0],margin(MF1)[2],margin(MF1)[1],margin(MF1)[3]))\n",
    "print('\\n\\n\\t A margem de ganho do distúrbio é {0:.4} dB na frequência {1:.4} Hz \\n\\n\\t A margem de fase da entrada é {2:.4}° na frequência {3:.4} Hz'.format(margin(MF2)[0],margin(MF2)[2],margin(MF2)[1],margin(MF2)[3]))\n",
    "print('\\n\\n\\t A margem de ganho do ruído é {0:.4} dB na frequência {1:.4} Hz \\n\\n\\t A margem de fase da entrada é {2:.4}° na frequência {3:.4} Hz'.format(margin(MF3)[0],margin(MF3)[2],margin(MF3)[1],margin(MF3)[3]))\n"
   ]
  },
  {
   "cell_type": "markdown",
   "metadata": {},
   "source": [
    "# G4"
   ]
  },
  {
   "cell_type": "markdown",
   "metadata": {
    "colab_type": "text",
    "id": "68OFUoEL_3l1"
   },
   "source": [
    "Controlador pra G4"
   ]
  },
  {
   "cell_type": "code",
   "execution_count": 27,
   "metadata": {
    "colab": {},
    "colab_type": "code",
    "id": "MgioxcVH5iFc"
   },
   "outputs": [
    {
     "name": "stdout",
     "output_type": "stream",
     "text": [
      "\n",
      "  5 s - 25\n",
      "-----------\n",
      "s^3 - 2 s^2\n",
      "\n",
      "\n",
      "-6.877e+04 s^2 - 1.62e+05 s - 4.401e+05\n",
      "---------------------------------------\n",
      "        s^2 + 159 s + 3.529e+05\n",
      "\n",
      "[(-4.999999999999999+8.279899739126861j), (-4.999999999999999-8.279899739126861j)]\n"
     ]
    }
   ],
   "source": [
    "sylv4 = Sylvester(G4)\n",
    "C4 = sylv4.C(0.8,15)\n",
    "P4 = sylv4.PolosOS(0.8,15)\n",
    "print(G4)\n",
    "print(C4)\n",
    "print(P4)\n"
   ]
  },
  {
   "cell_type": "markdown",
   "metadata": {
    "colab_type": "text",
    "id": "mzFRaYvYAFHE"
   },
   "source": [
    "Imprimir resposta ao degrau de G4"
   ]
  },
  {
   "cell_type": "code",
   "execution_count": 26,
   "metadata": {
    "colab": {},
    "colab_type": "code",
    "id": "geudH9Xg5iFe"
   },
   "outputs": [
    {
     "data": {
      "image/png": "[encoded data removed]",
      "text/plain": [
       "<Figure size 432x288 with 1 Axes>"
      ]
     },
     "metadata": {
      "needs_background": "light"
     },
     "output_type": "display_data"
    },
    {
     "ename": "IndexError",
     "evalue": "index 1000 is out of bounds for axis 0 with size 1000",
     "output_type": "error",
     "traceback": [
      "\u001b[1;31m---------------------------------------------------------------------------\u001b[0m",
      "\u001b[1;31mIndexError\u001b[0m                                Traceback (most recent call last)",
      "\u001b[1;32m<ipython-input-26-1e7ac12764b1>\u001b[0m in \u001b[0;36m<module>\u001b[1;34m\u001b[0m\n\u001b[0;32m      9\u001b[0m \u001b[0mplt\u001b[0m\u001b[1;33m.\u001b[0m\u001b[0mgrid\u001b[0m\u001b[1;33m(\u001b[0m\u001b[1;33m)\u001b[0m\u001b[1;33m\u001b[0m\u001b[1;33m\u001b[0m\u001b[0m\n\u001b[0;32m     10\u001b[0m \u001b[0mplt\u001b[0m\u001b[1;33m.\u001b[0m\u001b[0mshow\u001b[0m\u001b[1;33m(\u001b[0m\u001b[0mblock\u001b[0m\u001b[1;33m=\u001b[0m\u001b[1;32mFalse\u001b[0m\u001b[1;33m)\u001b[0m\u001b[1;33m\u001b[0m\u001b[1;33m\u001b[0m\u001b[0m\n\u001b[1;32m---> 11\u001b[1;33m \u001b[0mprint\u001b[0m\u001b[1;33m(\u001b[0m\u001b[0mstepinfo\u001b[0m\u001b[1;33m(\u001b[0m\u001b[0mMF1\u001b[0m\u001b[1;33m)\u001b[0m\u001b[1;33m)\u001b[0m\u001b[1;33m\u001b[0m\u001b[1;33m\u001b[0m\u001b[0m\n\u001b[0m\u001b[0;32m     12\u001b[0m \u001b[1;31m#print(stepinfo(MF2))\u001b[0m\u001b[1;33m\u001b[0m\u001b[1;33m\u001b[0m\u001b[1;33m\u001b[0m\u001b[0m\n",
      "\u001b[1;32mc:\\users\\cauee\\appdata\\local\\programs\\python\\python37\\lib\\site-packages\\control\\matlab\\timeresp.py\u001b[0m in \u001b[0;36mstepinfo\u001b[1;34m(sys, T, SettlingTimeThreshold, RiseTimeLimits)\u001b[0m\n\u001b[0;32m    109\u001b[0m     \u001b[1;32mfrom\u001b[0m \u001b[1;33m.\u001b[0m\u001b[1;33m.\u001b[0m\u001b[0mtimeresp\u001b[0m \u001b[1;32mimport\u001b[0m \u001b[0mstep_info\u001b[0m\u001b[1;33m\u001b[0m\u001b[1;33m\u001b[0m\u001b[0m\n\u001b[0;32m    110\u001b[0m \u001b[1;33m\u001b[0m\u001b[0m\n\u001b[1;32m--> 111\u001b[1;33m     \u001b[0mS\u001b[0m \u001b[1;33m=\u001b[0m \u001b[0mstep_info\u001b[0m\u001b[1;33m(\u001b[0m\u001b[0msys\u001b[0m\u001b[1;33m,\u001b[0m \u001b[0mT\u001b[0m\u001b[1;33m,\u001b[0m \u001b[0mSettlingTimeThreshold\u001b[0m\u001b[1;33m,\u001b[0m \u001b[0mRiseTimeLimits\u001b[0m\u001b[1;33m)\u001b[0m\u001b[1;33m\u001b[0m\u001b[1;33m\u001b[0m\u001b[0m\n\u001b[0m\u001b[0;32m    112\u001b[0m \u001b[1;33m\u001b[0m\u001b[0m\n\u001b[0;32m    113\u001b[0m     \u001b[1;32mreturn\u001b[0m \u001b[0mS\u001b[0m\u001b[1;33m\u001b[0m\u001b[1;33m\u001b[0m\u001b[0m\n",
      "\u001b[1;32mc:\\users\\cauee\\appdata\\local\\programs\\python\\python37\\lib\\site-packages\\control\\timeresp.py\u001b[0m in \u001b[0;36mstep_info\u001b[1;34m(sys, T, SettlingTimeThreshold, RiseTimeLimits)\u001b[0m\n\u001b[0;32m    597\u001b[0m     \u001b[1;32mfor\u001b[0m \u001b[0mi\u001b[0m \u001b[1;32min\u001b[0m \u001b[0mreversed\u001b[0m\u001b[1;33m(\u001b[0m\u001b[0mrange\u001b[0m\u001b[1;33m(\u001b[0m\u001b[0mT\u001b[0m\u001b[1;33m.\u001b[0m\u001b[0msize\u001b[0m\u001b[1;33m)\u001b[0m\u001b[1;33m)\u001b[0m\u001b[1;33m:\u001b[0m\u001b[1;33m\u001b[0m\u001b[1;33m\u001b[0m\u001b[0m\n\u001b[0;32m    598\u001b[0m         \u001b[1;32mif\u001b[0m\u001b[1;33m(\u001b[0m\u001b[1;33m(\u001b[0m\u001b[0myout\u001b[0m\u001b[1;33m[\u001b[0m\u001b[0mi\u001b[0m\u001b[1;33m]\u001b[0m \u001b[1;33m<=\u001b[0m \u001b[0minf_margin\u001b[0m\u001b[1;33m)\u001b[0m \u001b[1;33m|\u001b[0m \u001b[1;33m(\u001b[0m\u001b[0myout\u001b[0m\u001b[1;33m[\u001b[0m\u001b[0mi\u001b[0m\u001b[1;33m]\u001b[0m \u001b[1;33m>=\u001b[0m \u001b[0msup_margin\u001b[0m\u001b[1;33m)\u001b[0m\u001b[1;33m)\u001b[0m\u001b[1;33m:\u001b[0m\u001b[1;33m\u001b[0m\u001b[1;33m\u001b[0m\u001b[0m\n\u001b[1;32m--> 599\u001b[1;33m             \u001b[0mSettlingTime\u001b[0m \u001b[1;33m=\u001b[0m \u001b[0mT\u001b[0m\u001b[1;33m[\u001b[0m\u001b[0mi\u001b[0m \u001b[1;33m+\u001b[0m \u001b[1;36m1\u001b[0m\u001b[1;33m]\u001b[0m\u001b[1;33m\u001b[0m\u001b[1;33m\u001b[0m\u001b[0m\n\u001b[0m\u001b[0;32m    600\u001b[0m             \u001b[1;32mbreak\u001b[0m\u001b[1;33m\u001b[0m\u001b[1;33m\u001b[0m\u001b[0m\n\u001b[0;32m    601\u001b[0m \u001b[1;33m\u001b[0m\u001b[0m\n",
      "\u001b[1;31mIndexError\u001b[0m: index 1000 is out of bounds for axis 0 with size 1000"
     ]
    }
   ],
   "source": [
    "MF1 = ct.feedback(series(C4, G4))\n",
    "MF2 = ct.feedback(C4, G4)\n",
    "#print(ct.dcgain(G1))\n",
    "plt.figure(1)\n",
    "youts, Ts = step(MF1)\n",
    "plt.plot(Ts.T, youts.T,'r')\n",
    "#youtp, Tp = step(MF2)\n",
    "#plt.plot(Tp.T, youtp.T,'b')\n",
    "plt.grid()\n",
    "plt.show(block=False)\n",
    "print(stepinfo(MF1))\n",
    "#print(stepinfo(MF2))"
   ]
  },
  {
   "cell_type": "markdown",
   "metadata": {
    "colab_type": "text",
    "id": "ANVToKLDAB9F"
   },
   "source": [
    "Teste do exemplo"
   ]
  },
  {
   "cell_type": "code",
   "execution_count": null,
   "metadata": {
    "colab": {},
    "colab_type": "code",
    "id": "rhdqm8q65iFg",
    "scrolled": true
   },
   "outputs": [],
   "source": [
    "G = (s + 2)/(s**2+s+0.5)\n",
    "sylv = Sylvester(G)\n",
    "C = sylv.D(5,15)\n",
    "\n"
   ]
  },
  {
   "cell_type": "code",
   "execution_count": null,
   "metadata": {
    "colab": {},
    "colab_type": "code",
    "id": "J23UBPGs5iFi"
   },
   "outputs": [],
   "source": [
    "MF1 = ct.feedback(series(C, G))\n",
    "#MF2 = ct.feedback(C, G)\n",
    "plt.figure(1)\n",
    "youts, Ts = step(MF1)\n",
    "plt.plot(Ts.T, youts.T,'r')\n",
    "#youtp, Tp = step(MF2)\n",
    "#plt.plot(Tp.T, youtp.T,'b')\n",
    "plt.grid()\n",
    "plt.show(block=False)\n",
    "print(stepinfo(MF1))\n",
    "#print(stepinfo(MF2))"
   ]
  }
 ],
 "metadata": {
  "colab": {
   "name": "Resolver_Polinomiais.ipynb",
   "provenance": [],
   "toc_visible": true
  },
  "kernelspec": {
   "display_name": "Python 3",
   "language": "python",
   "name": "python3"
  },
  "language_info": {
   "codemirror_mode": {
    "name": "ipython",
    "version": 3
   },
   "file_extension": ".py",
   "mimetype": "text/x-python",
   "name": "python",
   "nbconvert_exporter": "python",
   "pygments_lexer": "ipython3",
   "version": "3.7.6"
  }
 },
 "nbformat": 4,
 "nbformat_minor": 1
}
