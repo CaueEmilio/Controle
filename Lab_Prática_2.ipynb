{
 "cells": [
  {
   "cell_type": "markdown",
   "metadata": {
    "id": "X52uDGMDYzkc"
   },
   "source": [
    "# Bibliotecas e constantes"
   ]
  },
  {
   "cell_type": "code",
   "execution_count": 2,
   "metadata": {
    "id": "VYY1Mql2Yzkc"
   },
   "outputs": [],
   "source": [
    "import numpy as np\n",
    "from math import *\n",
    "import matplotlib.pyplot as plt\n",
    "import scipy as sp # biblioteca para transformada de fourier\n",
    "import control as ct\n",
    "from scipy import interpolate\n",
    "from control.matlab import *\n",
    "import Polinomial as pol\n",
    "s = ct.TransferFunction.s\n",
    "z = ct.TransferFunction.z\n",
    "%matplotlib inline\n",
    "\n",
    "sin = np.sin\n",
    "pi = np.pi"
   ]
  },
  {
   "cell_type": "markdown",
   "metadata": {
    "id": "fkkSNR6B0Utf"
   },
   "source": [
    "1"
   ]
  },
  {
   "cell_type": "markdown",
   "metadata": {},
   "source": [
    "2"
   ]
  },
  {
   "cell_type": "code",
   "execution_count": 3,
   "metadata": {
    "colab": {
     "base_uri": "https://localhost:8080/",
     "height": 314
    },
    "id": "opOhIjkoYzkd",
    "outputId": "dc086097-2e05-4835-83d5-162b2816d5fc"
   },
   "outputs": [
    {
     "data": {
      "image/png": "[encoded data removed]",
      "text/plain": [
       "<Figure size 432x288 with 1 Axes>"
      ]
     },
     "metadata": {
      "needs_background": "light"
     },
     "output_type": "display_data"
    }
   ],
   "source": [
    "os = 10\n",
    "ts = 3.5\n",
    "zeta = (-np.log(os/100))/(np.sqrt(pi**2 + np.log(os/100)**2))\n",
    "Wn = 4/(ts*zeta)\n",
    "Xi = 0.375                                #Posição do ator\n",
    "Vs = Xi*(2.5/1.5) + 2.5                    #Tensão no sensor (de 0 a 5, sendo 2,5 o meio)\n",
    "K = (Vs-2.5)/(2.5)                      #Sensor de posição influenciando no ganho\n",
    "G = (Wn**2)/(s**2 + 2*Wn*zeta*s + Wn**2) #Função de transferência da câmera\n",
    "Gs = K*G\n",
    "tc, yc = ct.step_response(G)\n",
    "\n",
    "plt.figure(1)\n",
    "plt.title(\"Resposta ao degrau\")\n",
    "plt.plot(tc.T, yc.T,'r',label='Sistema contínuo')\n",
    "plt.xlim(0,6)\n",
    "#plt.ylim(0,1.2)\n",
    "plt.legend()\n",
    "plt.grid()\n"
   ]
  },
  {
   "cell_type": "markdown",
   "metadata": {
    "id": "rswT0GppYzke"
   },
   "source": [
    "3"
   ]
  },
  {
   "cell_type": "code",
   "execution_count": 4,
   "metadata": {
    "colab": {
     "base_uri": "https://localhost:8080/",
     "height": 314
    },
    "id": "wvHB__S8Yzkf",
    "outputId": "8c55fda1-ccec-4951-bc95-846ecb5cd1ab",
    "scrolled": true
   },
   "outputs": [
    {
     "name": "stdout",
     "output_type": "stream",
     "text": [
      "\n",
      "2.071e-05 z + 2.066e-05\n",
      "-----------------------\n",
      "z^2 - 1.992 z + 0.9924\n",
      "\n",
      "dt = 0.0033333333333333335\n",
      "\n"
     ]
    },
    {
     "data": {
      "text/latex": [
       "$$\\frac{2.071 \\times 10^{-5} z + 2.066 \\times 10^{-5}}{z^2 - 1.992 z + 0.9924}\\quad dt = 0.0033333333333333335$$"
      ],
      "text/plain": [
       "\n",
       "2.071e-05 z + 2.066e-05\n",
       "-----------------------\n",
       "z^2 - 1.992 z + 0.9924\n",
       "\n",
       "dt = 0.0033333333333333335"
      ]
     },
     "execution_count": 4,
     "metadata": {},
     "output_type": "execute_result"
    }
   ],
   "source": [
    "Ts = 0.1\n",
    "dt = Ts/30\n",
    "Gz = c2d(G,dt)\n",
    "\n",
    "syl1 = pol.SylvesterZ(Gz)\n",
    "print(Gz)\n",
    "Cz = syl1.C(0.08,0.11,dt)\n",
    "Gz"
   ]
  },
  {
   "cell_type": "code",
   "execution_count": 146,
   "metadata": {
    "scrolled": false
   },
   "outputs": [
    {
     "data": {
      "text/plain": [
       "{'RiseTime': 0.013333333333333332,\n",
       " 'SettlingTime': 0.1,\n",
       " 'SettlingMin': 0.9489530712108166,\n",
       " 'SettlingMax': 1.1940783952657346,\n",
       " 'Overshoot': 19.60339985757554,\n",
       " 'Undershoot': 0.0,\n",
       " 'Peak': 1.1940783952657346,\n",
       " 'PeakTime': 0.03666666666666667,\n",
       " 'SteadyStateValue': 0.9983649266556389}"
      ]
     },
     "execution_count": 146,
     "metadata": {},
     "output_type": "execute_result"
    },
    {
     "data": {
      "image/png": "[encoded data removed]",
      "text/plain": [
       "<Figure size 432x288 with 1 Axes>"
      ]
     },
     "metadata": {
      "needs_background": "light"
     },
     "output_type": "display_data"
    }
   ],
   "source": [
    "t = np.arange(0,10,dt)\n",
    "MF = feedback(Cz*Gz)\n",
    "t, y  = ct.step_response(MF,T=t)\n",
    "\n",
    "plt.figure(1)\n",
    "plt.plot(t.T, y.T,'r')\n",
    "plt.xlim(0,0.2)\n",
    "#plt.ylim(0,1.5)\n",
    "plt.grid()\n",
    "\n",
    "stepinfo(MF,T=t)"
   ]
  },
  {
   "cell_type": "code",
   "execution_count": null,
   "metadata": {},
   "outputs": [],
   "source": []
  }
 ],
 "metadata": {
  "colab": {
   "collapsed_sections": [
    "ETPOiPMKYzkW",
    "wv2A3JB5Yzkd",
    "rswT0GppYzke",
    "dgRHLMwNYzkf",
    "q0eXC1abYzkg",
    "ByGLzLXlYzkh",
    "1h6ottGgYzkh",
    "2uXwujqTYzki",
    "4Ce8HyemYzkj",
    "gRWNpEviYzkk",
    "25jYYXLoYzkl",
    "s6PeEN0AYzkm",
    "Uscnnr0hYzkn",
    "k_Th7X-LYzkn",
    "gaIcqURyAsyp",
    "FZv7L1MWAvpj",
    "xATPoL6PEPZv",
    "t3dNU0_1H8cl",
    "9A7X640wIBSz",
    "pQTjNoxYIrCg"
   ],
   "name": "Lab - Prática 1.ipynb",
   "provenance": [],
   "toc_visible": true
  },
  "kernelspec": {
   "display_name": "Python 3",
   "language": "python",
   "name": "python3"
  },
  "language_info": {
   "codemirror_mode": {
    "name": "ipython",
    "version": 3
   },
   "file_extension": ".py",
   "mimetype": "text/x-python",
   "name": "python",
   "nbconvert_exporter": "python",
   "pygments_lexer": "ipython3",
   "version": "3.7.6"
  }
 },
 "nbformat": 4,
 "nbformat_minor": 1
}
